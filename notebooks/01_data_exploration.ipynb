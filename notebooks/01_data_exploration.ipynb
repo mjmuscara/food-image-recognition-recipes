{
 "cells": [
  {
   "cell_type": "markdown",
   "id": "0457253e",
   "metadata": {},
   "source": [
    "# Notebook 01: Data Exploration"
   ]
  },
  {
   "cell_type": "markdown",
   "id": "1d9d315b",
   "metadata": {},
   "source": [
    "### Step 1: Download the Data"
   ]
  },
  {
   "cell_type": "code",
   "execution_count": null,
   "id": "f8009680",
   "metadata": {},
   "outputs": [
    {
     "name": "stdout",
     "output_type": "stream",
     "text": [
      "Dataset already downloaded at: C:\\Users\\mpack\\.cache\\kagglehub\\datasets\\kmader\\food41\\versions\\5\n",
      "['food_c101_n1000_r384x384x3.h5', 'food_c101_n10099_r32x32x1.h5', 'food_c101_n10099_r32x32x3.h5', 'food_c101_n10099_r64x64x1.h5', 'food_c101_n10099_r64x64x3.h5', 'food_test_c101_n1000_r128x128x1.h5', 'food_test_c101_n1000_r128x128x3.h5', 'food_test_c101_n1000_r32x32x1.h5', 'food_test_c101_n1000_r32x32x3.h5', 'food_test_c101_n1000_r64x64x1.h5', 'food_test_c101_n1000_r64x64x3.h5', 'images', 'meta']\n"
     ]
    }
   ],
   "source": [
    "import pandas as pd\n",
    "import os\n",
    "import kagglehub\n",
    "import h5py\n",
    "\n",
    "# Download latest version\n",
    "path = kagglehub.dataset_download(\"kmader/food41\")\n",
    "\n",
    "if not os.path.exists(path):\n",
    "    path = kagglehub.dataset_download(\"kmader/food41\")\n",
    "else:\n",
    "    print(\"Dataset already downloaded at:\", path)\n",
    "\n",
    "test_path = 'food_test_c101_n1000_r64x64x1.h5'\n",
    "\n",
    "filepath = path + test_\n"
   ]
  }
 ],
 "metadata": {
  "kernelspec": {
   "display_name": "Python 3",
   "language": "python",
   "name": "python3"
  },
  "language_info": {
   "codemirror_mode": {
    "name": "ipython",
    "version": 3
   },
   "file_extension": ".py",
   "mimetype": "text/x-python",
   "name": "python",
   "nbconvert_exporter": "python",
   "pygments_lexer": "ipython3",
   "version": "3.11.9"
  }
 },
 "nbformat": 4,
 "nbformat_minor": 5
}
